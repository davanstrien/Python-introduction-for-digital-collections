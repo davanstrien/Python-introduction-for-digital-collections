{
 "cells": [
  {
   "cell_type": "code",
   "execution_count": 54,
   "metadata": {},
   "outputs": [],
   "source": [
    "import requests "
   ]
  },
  {
   "cell_type": "code",
   "execution_count": 81,
   "metadata": {},
   "outputs": [],
   "source": [
    "url = 'https://www.gutenberg.org/files/84/84-0.txt'"
   ]
  },
  {
   "cell_type": "code",
   "execution_count": 82,
   "metadata": {},
   "outputs": [],
   "source": [
    "r = requests.get(url)"
   ]
  },
  {
   "cell_type": "code",
   "execution_count": 88,
   "metadata": {},
   "outputs": [
    {
     "data": {
      "text/plain": [
       "\"ï»¿\\r\\nProject Gutenberg's Frankenstein, by Mary Wollstonecraft (Godwin) Shelley\\r\\n\\r\\nThis eBook is for the use of anyone anywhere at no cost and with\\r\\nalmost no restrictions whatsoever.  You may copy it, give it away or\\r\\nre-use it under the terms of the Project Gutenberg License included\\r\\nwith this eBook or online at www.gutenberg.net\\r\\n\\r\\n\\r\\nTitle: Frankenstein\\r\\n       or The Modern Prometheus\\r\\n\\r\\nAuthor: Mary Wollstonecraft (Godwin) Shelley\\r\\n\\r\\nRelease Date: June 17, 2008 [EBook #84]\\r\\nLast updated: January 13, 2018\\r\\n\\r\\nLanguage: English\\r\\n\\r\\nCharacter set encoding: UTF-8\\r\\n\\r\\n*** START OF THIS PROJECT GUTENBERG EBOOK FRANKENSTEIN ***\\r\\n\\r\\n\\r\\n\\r\\n\\r\\nProduced by Judith Boss, Christy Phillips, Lynn Hanninen,\\r\\nand David Meltzer. HTML version by Al Haines.\\r\\nFurther corrections by Menno de Leeuw.\\r\\n\\r\\n\\r\\n\\r\\nFrankenstein;\\r\\n\\r\\n\\r\\nor, the Modern Prometheus\\r\\n\\r\\n\\r\\n\\r\\n\\r\\nby\\r\\n\\r\\n\\r\\nMary Wollstonecraft (Godwin) Shelley\\r\\n\\r\\n\\r\\n\\r\\n\\r\\n\\r\\n\\r\\nCONTENTS\\r\\n\\r\\n\\r\\n\\r\\n\\r\\nLetter 1\\r\\n\\r\\nLetter 2\\r\\n\\r\\nLetter 3\\r\\n\\r\\nLetter 4\\r\\n\\r\\nChapter 1\\r\\n\\r\\nChapter 2\\r\\n\\r\\nChap\""
      ]
     },
     "execution_count": 88,
     "metadata": {},
     "output_type": "execute_result"
    }
   ],
   "source": [
    "text = r.text\n",
    "text[:1000]"
   ]
  },
  {
   "cell_type": "code",
   "execution_count": 87,
   "metadata": {},
   "outputs": [
    {
     "ename": "UnsupportedOperation",
     "evalue": "not readable",
     "output_type": "error",
     "traceback": [
      "\u001b[0;31m---------------------------------------------------------------------------\u001b[0m",
      "\u001b[0;31mUnsupportedOperation\u001b[0m                      Traceback (most recent call last)",
      "\u001b[0;32m<ipython-input-87-42b44cc06659>\u001b[0m in \u001b[0;36m<module>\u001b[0;34m\u001b[0m\n\u001b[1;32m      1\u001b[0m \u001b[0;32mwith\u001b[0m \u001b[0mopen\u001b[0m\u001b[0;34m(\u001b[0m\u001b[0;34m'frakenstein.txt'\u001b[0m\u001b[0;34m,\u001b[0m \u001b[0;34m'w'\u001b[0m\u001b[0;34m)\u001b[0m \u001b[0;32mas\u001b[0m \u001b[0mf\u001b[0m\u001b[0;34m:\u001b[0m\u001b[0;34m\u001b[0m\u001b[0;34m\u001b[0m\u001b[0m\n\u001b[0;32m----> 2\u001b[0;31m     \u001b[0mtext\u001b[0m \u001b[0;34m=\u001b[0m \u001b[0mf\u001b[0m\u001b[0;34m.\u001b[0m\u001b[0mread\u001b[0m\u001b[0;34m(\u001b[0m\u001b[0;34m)\u001b[0m\u001b[0;34m\u001b[0m\u001b[0;34m\u001b[0m\u001b[0m\n\u001b[0m",
      "\u001b[0;31mUnsupportedOperation\u001b[0m: not readable"
     ]
    }
   ],
   "source": [
    "with open('frakenstein.txt', 'w') as f:\n",
    "    text = f.read()"
   ]
  },
  {
   "cell_type": "code",
   "execution_count": 76,
   "metadata": {},
   "outputs": [
    {
     "data": {
      "text/plain": [
       "<_io.TextIOWrapper name='frakenstein.txt' mode='w' encoding='UTF-8'>"
      ]
     },
     "execution_count": 76,
     "metadata": {},
     "output_type": "execute_result"
    }
   ],
   "source": [
    "text."
   ]
  },
  {
   "cell_type": "code",
   "execution_count": 57,
   "metadata": {},
   "outputs": [],
   "source": [
    "with open('frakenstein.txt','r') as f:\n",
    "    text = f.readlines()"
   ]
  },
  {
   "cell_type": "code",
   "execution_count": null,
   "metadata": {},
   "outputs": [],
   "source": []
  },
  {
   "cell_type": "code",
   "execution_count": 58,
   "metadata": {},
   "outputs": [
    {
     "data": {
      "text/plain": [
       "33"
      ]
     },
     "execution_count": 58,
     "metadata": {},
     "output_type": "execute_result"
    }
   ],
   "source": [
    "count = 0\n",
    "for line in text:\n",
    "    if 'monster' in line.lower():\n",
    "        count += 1\n",
    "count"
   ]
  },
  {
   "cell_type": "code",
   "execution_count": 60,
   "metadata": {},
   "outputs": [
    {
     "name": "stdout",
     "output_type": "stream",
     "text": [
      "shutters, I beheld the wretchâthe miserable monster whom I had\n",
      "\n",
      "behold this monster, but I feared still more that Henry should see him.\n",
      "\n",
      "tell. Oh, save me!  Save me!â  I imagined that the monster seized me;\n",
      "\n",
      "The form of the monster on whom I had bestowed existence was for ever\n",
      "\n",
      "until I almost began to think that I was the monster that he said I\n",
      "\n",
      "unalterable evils, and I lived in daily fear lest the monster whom I had\n",
      "\n",
      "appear to me as monsters thirsting for each otherâs blood.  Yet I am\n",
      "\n",
      "âAbhorred monster!  Fiend that thou art!  The tortures of hell are too\n",
      "\n",
      "fully convinced that I was in reality the monster that I am, I was\n",
      "\n",
      "around I saw and heard of none like me.  Was I, then, a monster, a blot\n",
      "\n",
      "Why did you form a monster so hideous that even _you_ turned from me in\n",
      "\n",
      "monster.â\n",
      "\n",
      "âmonster! Ugly wretch! You wish to eat me and tear me to pieces. You\n",
      "\n",
      "ââHideous monster!  Let me go.  My papa is a syndicâhe is M.\n",
      "\n",
      "monsters, cut off from all the world; but on that account we shall be more\n",
      "\n",
      "ground?  I must perform my engagement and let the monster depart with\n",
      "\n",
      "the monster would depart for ever.  Or (so my fond fancy imaged) some\n",
      "\n",
      "monster followed me and would discover himself to me when I should have\n",
      "\n",
      "The monster saw my determination in my face and gnashed his teeth in the\n",
      "\n",
      "of Clervalâall left behind, on whom the monster might satisfy his\n",
      "\n",
      "tormented; and at others I felt the fingers of the monster already grasping\n",
      "\n",
      "them; sometimes it was the watery, clouded eyes of the monster, as I\n",
      "\n",
      "companion, had fallen a victim to me and the monster of my creation. I\n",
      "\n",
      "her happy. If the monster executed his threat, death was inevitable; yet,\n",
      "\n",
      "possessed of magic powers, the monster had blinded me to his real\n",
      "\n",
      "A grin was on the face of the monster; he seemed to jeer, as with his\n",
      "\n",
      "causeâthe monster whom I had created, the miserable dÃ¦mon whom I had\n",
      "\n",
      "it is in my power to seize the monster, be assured that he shall suffer\n",
      "\n",
      "and hellish monster drink deep of agony; let him feel the despair that now\n",
      "\n",
      "fiend and gained accurate information.  A gigantic monster, they said,\n",
      "\n",
      "and the apparition of the monster seen from our ship, brought to me a\n",
      "\n",
      "however earnest and connected. Such a monster has, then, really existence!\n",
      "\n",
      "attempted to speak, but the words died away on my lips. The monster\n",
      "\n"
     ]
    }
   ],
   "source": [
    "for line in text:\n",
    "    if 'monster' in line.lower():\n",
    "        print(line)"
   ]
  },
  {
   "cell_type": "code",
   "execution_count": 89,
   "metadata": {},
   "outputs": [],
   "source": [
    "#import nltk.corpus  \n",
    "from nltk.text import Text  "
   ]
  },
  {
   "cell_type": "code",
   "execution_count": 90,
   "metadata": {},
   "outputs": [],
   "source": [
    "text = Text(text)"
   ]
  },
  {
   "cell_type": "code",
   "execution_count": 95,
   "metadata": {},
   "outputs": [
    {
     "name": "stderr",
     "output_type": "stream",
     "text": [
      "/usr/local/anaconda3/lib/python3.7/site-packages/matplotlib/backends/backend_agg.py:211: RuntimeWarning: Glyph 13 missing from current font.\n",
      "  font.set_text(s, 0.0, flags=flags)\n",
      "/usr/local/anaconda3/lib/python3.7/site-packages/matplotlib/backends/backend_agg.py:211: RuntimeWarning: Glyph 128 missing from current font.\n",
      "  font.set_text(s, 0.0, flags=flags)\n",
      "/usr/local/anaconda3/lib/python3.7/site-packages/matplotlib/backends/backend_agg.py:211: RuntimeWarning: Glyph 156 missing from current font.\n",
      "  font.set_text(s, 0.0, flags=flags)\n",
      "/usr/local/anaconda3/lib/python3.7/site-packages/matplotlib/backends/backend_agg.py:211: RuntimeWarning: Glyph 157 missing from current font.\n",
      "  font.set_text(s, 0.0, flags=flags)\n",
      "/usr/local/anaconda3/lib/python3.7/site-packages/matplotlib/backends/backend_agg.py:211: RuntimeWarning: Glyph 153 missing from current font.\n",
      "  font.set_text(s, 0.0, flags=flags)\n",
      "/usr/local/anaconda3/lib/python3.7/site-packages/matplotlib/backends/backend_agg.py:211: RuntimeWarning: Glyph 148 missing from current font.\n",
      "  font.set_text(s, 0.0, flags=flags)\n",
      "/usr/local/anaconda3/lib/python3.7/site-packages/matplotlib/backends/backend_agg.py:211: RuntimeWarning: Glyph 152 missing from current font.\n",
      "  font.set_text(s, 0.0, flags=flags)\n",
      "/usr/local/anaconda3/lib/python3.7/site-packages/matplotlib/backends/backend_agg.py:180: RuntimeWarning: Glyph 13 missing from current font.\n",
      "  font.set_text(s, 0, flags=flags)\n",
      "/usr/local/anaconda3/lib/python3.7/site-packages/matplotlib/backends/backend_agg.py:176: RuntimeWarning: Glyph 128 missing from current font.\n",
      "  font.load_char(ord(s), flags=flags)\n",
      "/usr/local/anaconda3/lib/python3.7/site-packages/matplotlib/backends/backend_agg.py:176: RuntimeWarning: Glyph 156 missing from current font.\n",
      "  font.load_char(ord(s), flags=flags)\n",
      "/usr/local/anaconda3/lib/python3.7/site-packages/matplotlib/backends/backend_agg.py:176: RuntimeWarning: Glyph 157 missing from current font.\n",
      "  font.load_char(ord(s), flags=flags)\n",
      "/usr/local/anaconda3/lib/python3.7/site-packages/matplotlib/backends/backend_agg.py:176: RuntimeWarning: Glyph 153 missing from current font.\n",
      "  font.load_char(ord(s), flags=flags)\n",
      "/usr/local/anaconda3/lib/python3.7/site-packages/matplotlib/backends/backend_agg.py:176: RuntimeWarning: Glyph 148 missing from current font.\n",
      "  font.load_char(ord(s), flags=flags)\n",
      "/usr/local/anaconda3/lib/python3.7/site-packages/matplotlib/backends/backend_agg.py:176: RuntimeWarning: Glyph 152 missing from current font.\n",
      "  font.load_char(ord(s), flags=flags)\n"
     ]
    },
    {
     "data": {
      "image/png": "[encoded data removed]",
      "text/plain": [
       "<Figure size 432x288 with 1 Axes>"
      ]
     },
     "metadata": {
      "needs_background": "light"
     },
     "output_type": "display_data"
    }
   ],
   "source": [
    "text.plot()"
   ]
  },
  {
   "cell_type": "code",
   "execution_count": 93,
   "metadata": {},
   "outputs": [
    {
     "data": {
      "text/plain": [
       "0"
      ]
     },
     "execution_count": 93,
     "metadata": {},
     "output_type": "execute_result"
    }
   ],
   "source": [
    "text.count('monster')"
   ]
  },
  {
   "cell_type": "code",
   "execution_count": 59,
   "metadata": {},
   "outputs": [],
   "source": [
    "# MARC"
   ]
  },
  {
   "cell_type": "code",
   "execution_count": 8,
   "metadata": {},
   "outputs": [
    {
     "name": "stdout",
     "output_type": "stream",
     "text": [
      "--2020-04-02 16:48:34--  https://data.nls.uk/download/metadata-collections/Moving-Image-Archive.zip\n",
      "Resolving data.nls.uk (data.nls.uk)... 193.130.15.49\n",
      "Connecting to data.nls.uk (data.nls.uk)|193.130.15.49|:443... connected.\n",
      "HTTP request sent, awaiting response... 200 OK\n",
      "Length: 2702432 (2.6M) [application/x-zip-compressed]\n",
      "Saving to: ‘Moving-Image-Archive.zip’\n",
      "\n",
      "Moving-Image-Archiv 100%[===================>]   2.58M  5.09MB/s    in 0.5s    \n",
      "\n",
      "2020-04-02 16:48:35 (5.09 MB/s) - ‘Moving-Image-Archive.zip’ saved [2702432/2702432]\n",
      "\n"
     ]
    }
   ],
   "source": [
    "!wget https://data.nls.uk/download/metadata-collections/Moving-Image-Archive.zip"
   ]
  },
  {
   "cell_type": "code",
   "execution_count": 9,
   "metadata": {},
   "outputs": [
    {
     "name": "stdout",
     "output_type": "stream",
     "text": [
      "Archive:  Moving-Image-Archive.zip\n",
      "  inflating: Moving-Image-Archive-readme.txt  \n",
      "  inflating: Moving-Image-Archive-dataset-MARC.xml  \n",
      "  inflating: Moving-Image-Archive-dataset-DC.xml  \n"
     ]
    }
   ],
   "source": [
    "!unzip Moving-Image-Archive.zip"
   ]
  },
  {
   "cell_type": "code",
   "execution_count": 1,
   "metadata": {},
   "outputs": [
    {
     "name": "stdout",
     "output_type": "stream",
     "text": [
      "Collecting pymarc\n",
      "  Downloading pymarc-4.0.0.tar.gz (227 kB)\n",
      "\u001b[K     |████████████████████████████████| 227 kB 95 kB/s eta 0:00:011\n",
      "\u001b[?25hBuilding wheels for collected packages: pymarc\n",
      "  Building wheel for pymarc (setup.py) ... \u001b[?25ldone\n",
      "\u001b[?25h  Created wheel for pymarc: filename=pymarc-4.0.0-py3-none-any.whl size=152520 sha256=8d4c4428e80d2975e0833672e2ee5bc04378031e76c1184c4cd8ed01b18efb17\n",
      "  Stored in directory: /Users/dvanstrien/Library/Caches/pip/wheels/c0/4f/b9/d1d2e9695b090e0e8d45df0b522ffc7068817daa3209347964\n",
      "Successfully built pymarc\n",
      "Installing collected packages: pymarc\n",
      "Successfully installed pymarc-4.0.0\n"
     ]
    }
   ],
   "source": [
    "!pip install pymarc"
   ]
  },
  {
   "cell_type": "code",
   "execution_count": 101,
   "metadata": {},
   "outputs": [],
   "source": [
    "from pymarc import MARCReader\n",
    "from pymarc import parse_xml_to_array\n",
    "\n",
    "records = parse_xml_to_array('Moving-Image-Archive-dataset-MARC.xml')\n",
    "record_1 = records[1]"
   ]
  },
  {
   "cell_type": "code",
   "execution_count": null,
   "metadata": {},
   "outputs": [],
   "source": []
  },
  {
   "cell_type": "code",
   "execution_count": 24,
   "metadata": {},
   "outputs": [
    {
     "data": {
      "text/plain": [
       "'(LAST DAY OF THE TRAMS, GLASGOW).'"
      ]
     },
     "execution_count": 24,
     "metadata": {},
     "output_type": "execute_result"
    }
   ],
   "source": [
    "record_1.title()"
   ]
  },
  {
   "cell_type": "code",
   "execution_count": 35,
   "metadata": {},
   "outputs": [],
   "source": [
    "json_record = record_1.as_json()"
   ]
  },
  {
   "cell_type": "code",
   "execution_count": 36,
   "metadata": {},
   "outputs": [
    {
     "data": {
      "text/plain": [
       "'{\"leader\": \"00976cgm a22002777  4500\", \"fields\": [{\"001\": \"(filmRef)0002\"}, {\"003\": \"StEdNL\"}, {\"006\": \"g---  ||||| s   ml\"}, {\"007\": \"v||c|  u|\"}, {\"008\": \"      suuuu1962stk||| |     ||   vleng|d\"}, {\"040\": {\"subfields\": [{\"a\": \"StEdNL\"}, {\"b\": \"eng\"}, {\"e\": \"rda\"}, {\"c\": \"StEdNL\"}], \"ind1\": \"0\", \"ind2\": \" \"}}, {\"245\": {\"subfields\": [{\"a\": \"(LAST DAY OF THE TRAMS, GLASGOW).\"}], \"ind1\": \"0\", \"ind2\": \"0\"}}, {\"264\": {\"subfields\": [{\"a\": \"[Place of production not identified]  : \"}, {\"b\": \"[producer not identified]\"}], \"ind1\": \" \", \"ind2\": \"0\"}}, {\"264\": {\"subfields\": [{\"c\": \"1962.\"}], \"ind1\": \" \", \"ind2\": \"2\"}}, {\"300\": {\"subfields\": [{\"a\": \"(28.00 mins) : \"}, {\"b\": \"silent, colour\"}], \"ind1\": \" \", \"ind2\": \" \"}}, {\"336\": {\"subfields\": [{\"a\": \"two-dimensional moving image\"}, {\"2\": \"rdacontent\"}], \"ind1\": \" \", \"ind2\": \" \"}}, {\"337\": {\"subfields\": [{\"a\": \"unspecified\"}, {\"2\": \"rdamedia\"}], \"ind1\": \" \", \"ind2\": \" \"}}, {\"338\": {\"subfields\": [{\"a\": \"unspecified \"}, {\"2\": \"rdacarrier\"}], \"ind1\": \" \", \"ind2\": \" \"}}, {\"500\": {\"subfields\": [{\"a\": \"Metadata context: metadata created as part of normal Library activities.\"}], \"ind1\": \" \", \"ind2\": \" \"}}, {\"508\": {\"subfields\": [{\"a\": \"Director, [filmed by SAAC].\"}], \"ind1\": \" \", \"ind2\": \" \"}}, {\"520\": {\"subfields\": [{\"a\": \"Footage of the last trams to run in Glasgow, and the farewell procession (1962).\"}], \"ind1\": \" \", \"ind2\": \" \"}}, {\"653\": {\"subfields\": [{\"a\": \"Transport\"}], \"ind1\": \" \", \"ind2\": \"0\"}}, {\"653\": {\"subfields\": [{\"a\": \"Glasgow\"}], \"ind1\": \" \", \"ind2\": \"5\"}}, {\"653\": {\"subfields\": [{\"a\": \"documentary\"}], \"ind1\": \" \", \"ind2\": \"6\"}}, {\"653\": {\"subfields\": [{\"a\": \"amateur\"}], \"ind1\": \" \", \"ind2\": \"6\"}}, {\"856\": {\"subfields\": [{\"u\": \"http://movingimage.nls.uk/film/0002\"}, {\"z\": \"View online resource description\"}], \"ind1\": \"4\", \"ind2\": \"0\"}}]}'"
      ]
     },
     "execution_count": 36,
     "metadata": {},
     "output_type": "execute_result"
    }
   ],
   "source": [
    "json_record"
   ]
  },
  {
   "cell_type": "code",
   "execution_count": 38,
   "metadata": {},
   "outputs": [],
   "source": [
    "dict_record = record_1.as_dict()"
   ]
  },
  {
   "cell_type": "code",
   "execution_count": 52,
   "metadata": {},
   "outputs": [
    {
     "data": {
      "text/plain": [
       "[{'001': '(filmRef)0002'},\n",
       " {'003': 'StEdNL'},\n",
       " {'006': 'g---  ||||| s   ml'},\n",
       " {'007': 'v||c|  u|'},\n",
       " {'008': '      suuuu1962stk||| |     ||   vleng|d'},\n",
       " {'040': {'subfields': [{'a': 'StEdNL'},\n",
       "    {'b': 'eng'},\n",
       "    {'e': 'rda'},\n",
       "    {'c': 'StEdNL'}],\n",
       "   'ind1': '0',\n",
       "   'ind2': ' '}},\n",
       " {'245': {'subfields': [{'a': '(LAST DAY OF THE TRAMS, GLASGOW).'}],\n",
       "   'ind1': '0',\n",
       "   'ind2': '0'}},\n",
       " {'264': {'subfields': [{'a': '[Place of production not identified]  : '},\n",
       "    {'b': '[producer not identified]'}],\n",
       "   'ind1': ' ',\n",
       "   'ind2': '0'}},\n",
       " {'264': {'subfields': [{'c': '1962.'}], 'ind1': ' ', 'ind2': '2'}},\n",
       " {'300': {'subfields': [{'a': '(28.00 mins) : '}, {'b': 'silent, colour'}],\n",
       "   'ind1': ' ',\n",
       "   'ind2': ' '}},\n",
       " {'336': {'subfields': [{'a': 'two-dimensional moving image'},\n",
       "    {'2': 'rdacontent'}],\n",
       "   'ind1': ' ',\n",
       "   'ind2': ' '}},\n",
       " {'337': {'subfields': [{'a': 'unspecified'}, {'2': 'rdamedia'}],\n",
       "   'ind1': ' ',\n",
       "   'ind2': ' '}},\n",
       " {'338': {'subfields': [{'a': 'unspecified '}, {'2': 'rdacarrier'}],\n",
       "   'ind1': ' ',\n",
       "   'ind2': ' '}},\n",
       " {'500': {'subfields': [{'a': 'Metadata context: metadata created as part of normal Library activities.'}],\n",
       "   'ind1': ' ',\n",
       "   'ind2': ' '}},\n",
       " {'508': {'subfields': [{'a': 'Director, [filmed by SAAC].'}],\n",
       "   'ind1': ' ',\n",
       "   'ind2': ' '}},\n",
       " {'520': {'subfields': [{'a': 'Footage of the last trams to run in Glasgow, and the farewell procession (1962).'}],\n",
       "   'ind1': ' ',\n",
       "   'ind2': ' '}},\n",
       " {'653': {'subfields': [{'a': 'Transport'}], 'ind1': ' ', 'ind2': '0'}},\n",
       " {'653': {'subfields': [{'a': 'Glasgow'}], 'ind1': ' ', 'ind2': '5'}},\n",
       " {'653': {'subfields': [{'a': 'documentary'}], 'ind1': ' ', 'ind2': '6'}},\n",
       " {'653': {'subfields': [{'a': 'amateur'}], 'ind1': ' ', 'ind2': '6'}},\n",
       " {'856': {'subfields': [{'u': 'http://movingimage.nls.uk/film/0002'},\n",
       "    {'z': 'View online resource description'}],\n",
       "   'ind1': '4',\n",
       "   'ind2': '0'}}]"
      ]
     },
     "execution_count": 52,
     "metadata": {},
     "output_type": "execute_result"
    }
   ],
   "source": [
    "dict_record['fields']"
   ]
  },
  {
   "cell_type": "code",
   "execution_count": 96,
   "metadata": {},
   "outputs": [],
   "source": [
    "# Marc2excel"
   ]
  },
  {
   "cell_type": "code",
   "execution_count": 98,
   "metadata": {},
   "outputs": [
    {
     "name": "stdout",
     "output_type": "stream",
     "text": [
      "Collecting marc2excel\n",
      "  Downloading marc2excel-1.2.1.tar.gz (6.7 kB)\n",
      "Collecting openpyxl<3.0,>=2.3.0\n",
      "  Downloading openpyxl-2.6.4.tar.gz (173 kB)\n",
      "\u001b[K     |████████████████████████████████| 173 kB 2.5 MB/s eta 0:00:01\n",
      "\u001b[?25hCollecting pymarc<4.0,>=3.1.5\n",
      "  Downloading pymarc-3.2.0.tar.gz (223 kB)\n",
      "\u001b[K     |████████████████████████████████| 223 kB 3.7 MB/s eta 0:00:01\n",
      "\u001b[?25hCollecting click<7.0,>=6.6\n",
      "  Downloading click-6.7-py2.py3-none-any.whl (71 kB)\n",
      "\u001b[K     |████████████████████████████████| 71 kB 4.3 MB/s eta 0:00:011\n",
      "\u001b[?25hRequirement already satisfied: tqdm<5.0,>=4.7.0 in /usr/local/anaconda3/lib/python3.7/site-packages (from marc2excel) (4.41.1)\n",
      "Requirement already satisfied: jdcal in /usr/local/anaconda3/lib/python3.7/site-packages (from openpyxl<3.0,>=2.3.0->marc2excel) (1.4.1)\n",
      "Requirement already satisfied: et_xmlfile in /usr/local/anaconda3/lib/python3.7/site-packages (from openpyxl<3.0,>=2.3.0->marc2excel) (1.0.1)\n",
      "Requirement already satisfied: six>=1.9.0 in /usr/local/anaconda3/lib/python3.7/site-packages (from pymarc<4.0,>=3.1.5->marc2excel) (1.14.0)\n",
      "Building wheels for collected packages: marc2excel, openpyxl, pymarc\n",
      "  Building wheel for marc2excel (setup.py) ... \u001b[?25ldone\n",
      "\u001b[?25h  Created wheel for marc2excel: filename=marc2excel-1.2.1-py3-none-any.whl size=7277 sha256=b7bdef84d62f7876c3d2d2c44961e9f308d3e689cd2215442bb171d45ba44b5a\n",
      "  Stored in directory: /Users/dvanstrien/Library/Caches/pip/wheels/bf/70/b6/ef4706ca802ec42a5db75b6c7b8e57967c99ba357924c83515\n",
      "  Building wheel for openpyxl (setup.py) ... \u001b[?25ldone\n",
      "\u001b[?25h  Created wheel for openpyxl: filename=openpyxl-2.6.4-py2.py3-none-any.whl size=245678 sha256=17992a94d816cde9b8aad922547c05ab10e33e40d1385c8668d09a5e6f6c38f3\n",
      "  Stored in directory: /Users/dvanstrien/Library/Caches/pip/wheels/2f/58/78/d465bf25c202bd62cdacb3da343e03db5661866b17e011aafc\n",
      "  Building wheel for pymarc (setup.py) ... \u001b[?25ldone\n",
      "\u001b[?25h  Created wheel for pymarc: filename=pymarc-3.2.0-py3-none-any.whl size=149737 sha256=2a28c7211b03cd532d5e6e8074d3dccb3b61ba4e4c7025a4489146d733ab9e9f\n",
      "  Stored in directory: /Users/dvanstrien/Library/Caches/pip/wheels/c9/19/fb/965e9fdb99741782627933f1e38cef36379fec7fa72f84f4ea\n",
      "Successfully built marc2excel openpyxl pymarc\n",
      "Installing collected packages: openpyxl, pymarc, click, marc2excel\n",
      "  Attempting uninstall: openpyxl\n",
      "    Found existing installation: openpyxl 3.0.3\n",
      "    Uninstalling openpyxl-3.0.3:\n",
      "      Successfully uninstalled openpyxl-3.0.3\n",
      "  Attempting uninstall: pymarc\n",
      "    Found existing installation: pymarc 4.0.0\n",
      "    Uninstalling pymarc-4.0.0:\n",
      "      Successfully uninstalled pymarc-4.0.0\n",
      "  Attempting uninstall: click\n",
      "    Found existing installation: Click 7.0\n",
      "    Uninstalling Click-7.0:\n",
      "      Successfully uninstalled Click-7.0\n",
      "Successfully installed click-6.7 marc2excel-1.2.1 openpyxl-2.6.4 pymarc-3.2.0\n"
     ]
    }
   ],
   "source": [
    "!pip install marc2excel"
   ]
  },
  {
   "cell_type": "code",
   "execution_count": 100,
   "metadata": {},
   "outputs": [
    {
     "ename": "RecordLengthInvalid",
     "evalue": "Invalid record length in first 5 bytes of record",
     "output_type": "error",
     "traceback": [
      "\u001b[0;31m---------------------------------------------------------------------------\u001b[0m",
      "\u001b[0;31mValueError\u001b[0m                                Traceback (most recent call last)",
      "\u001b[0;32m/usr/local/anaconda3/lib/python3.7/site-packages/pymarc/reader.py\u001b[0m in \u001b[0;36m__next__\u001b[0;34m(self)\u001b[0m\n\u001b[1;32m    153\u001b[0m         \u001b[0;32mreturn\u001b[0m \u001b[0mrecord\u001b[0m\u001b[0;34m\u001b[0m\u001b[0;34m\u001b[0m\u001b[0m\n\u001b[0;32m--> 154\u001b[0;31m \u001b[0;34m\u001b[0m\u001b[0m\n\u001b[0m\u001b[1;32m    155\u001b[0m \u001b[0;32mdef\u001b[0m \u001b[0mmap_records\u001b[0m\u001b[0;34m(\u001b[0m\u001b[0mf\u001b[0m\u001b[0;34m,\u001b[0m \u001b[0;34m*\u001b[0m\u001b[0mfiles\u001b[0m\u001b[0;34m)\u001b[0m\u001b[0;34m:\u001b[0m\u001b[0;34m\u001b[0m\u001b[0;34m\u001b[0m\u001b[0m\n",
      "\u001b[0;31mValueError\u001b[0m: invalid literal for int() with base 10: b'<?xml'",
      "\nDuring handling of the above exception, another exception occurred:\n",
      "\u001b[0;31mRecordLengthInvalid\u001b[0m                       Traceback (most recent call last)",
      "\u001b[0;32m<ipython-input-100-c4dc41f9ab55>\u001b[0m in \u001b[0;36m<module>\u001b[0;34m\u001b[0m\n\u001b[1;32m      1\u001b[0m \u001b[0;32mimport\u001b[0m \u001b[0mmarc2excel\u001b[0m\u001b[0;34m\u001b[0m\u001b[0;34m\u001b[0m\u001b[0m\n\u001b[0;32m----> 2\u001b[0;31m \u001b[0mmarc2excel\u001b[0m\u001b[0;34m.\u001b[0m\u001b[0mmarc2excel\u001b[0m\u001b[0;34m(\u001b[0m\u001b[0;34m'Moving-Image-Archive-dataset-MARC.xml'\u001b[0m\u001b[0;34m,\u001b[0m \u001b[0;34m'file.xls'\u001b[0m\u001b[0;34m)\u001b[0m\u001b[0;34m\u001b[0m\u001b[0;34m\u001b[0m\u001b[0m\n\u001b[0m",
      "\u001b[0;32m/usr/local/anaconda3/lib/python3.7/site-packages/marc2excel/__init__.py\u001b[0m in \u001b[0;36mmarc2excel\u001b[0;34m(path, out_path, silent, force_utf8)\u001b[0m\n\u001b[1;32m     23\u001b[0m     \"\"\"\n\u001b[1;32m     24\u001b[0m     \u001b[0mconverter\u001b[0m \u001b[0;34m=\u001b[0m \u001b[0mConverter\u001b[0m\u001b[0;34m(\u001b[0m\u001b[0msilent\u001b[0m\u001b[0;34m)\u001b[0m\u001b[0;34m\u001b[0m\u001b[0;34m\u001b[0m\u001b[0m\n\u001b[0;32m---> 25\u001b[0;31m     \u001b[0mconverter\u001b[0m\u001b[0;34m.\u001b[0m\u001b[0mmarc2excel\u001b[0m\u001b[0;34m(\u001b[0m\u001b[0mpath\u001b[0m\u001b[0;34m,\u001b[0m \u001b[0mout_path\u001b[0m\u001b[0;34m,\u001b[0m \u001b[0mforce_utf8\u001b[0m\u001b[0;34m=\u001b[0m\u001b[0mforce_utf8\u001b[0m\u001b[0;34m)\u001b[0m\u001b[0;34m\u001b[0m\u001b[0;34m\u001b[0m\u001b[0m\n\u001b[0m\u001b[1;32m     26\u001b[0m \u001b[0;34m\u001b[0m\u001b[0m\n\u001b[1;32m     27\u001b[0m \u001b[0;34m\u001b[0m\u001b[0m\n",
      "\u001b[0;32m/usr/local/anaconda3/lib/python3.7/site-packages/marc2excel/main.py\u001b[0m in \u001b[0;36mmarc2excel\u001b[0;34m(self, path, out_path, force_utf8)\u001b[0m\n\u001b[1;32m     40\u001b[0m                 \u001b[0mpos\u001b[0m \u001b[0;34m+=\u001b[0m \u001b[0;36m1\u001b[0m\u001b[0;34m\u001b[0m\u001b[0;34m\u001b[0m\u001b[0m\n\u001b[1;32m     41\u001b[0m                 \u001b[0;32mtry\u001b[0m\u001b[0;34m:\u001b[0m\u001b[0;34m\u001b[0m\u001b[0;34m\u001b[0m\u001b[0m\n\u001b[0;32m---> 42\u001b[0;31m                     \u001b[0mrecord\u001b[0m \u001b[0;34m=\u001b[0m \u001b[0msix\u001b[0m\u001b[0;34m.\u001b[0m\u001b[0mnext\u001b[0m\u001b[0;34m(\u001b[0m\u001b[0mreader\u001b[0m\u001b[0;34m)\u001b[0m\u001b[0;34m\u001b[0m\u001b[0;34m\u001b[0m\u001b[0m\n\u001b[0m\u001b[1;32m     43\u001b[0m                 \u001b[0;32mexcept\u001b[0m \u001b[0mStopIteration\u001b[0m\u001b[0;34m:\u001b[0m\u001b[0;34m\u001b[0m\u001b[0;34m\u001b[0m\u001b[0m\n\u001b[1;32m     44\u001b[0m                     \u001b[0;32mbreak\u001b[0m\u001b[0;34m\u001b[0m\u001b[0;34m\u001b[0m\u001b[0m\n",
      "\u001b[0;32m/usr/local/anaconda3/lib/python3.7/site-packages/pymarc/reader.py\u001b[0m in \u001b[0;36m__next__\u001b[0;34m(self)\u001b[0m\n\u001b[1;32m    154\u001b[0m \u001b[0;34m\u001b[0m\u001b[0m\n\u001b[1;32m    155\u001b[0m \u001b[0;32mdef\u001b[0m \u001b[0mmap_records\u001b[0m\u001b[0;34m(\u001b[0m\u001b[0mf\u001b[0m\u001b[0;34m,\u001b[0m \u001b[0;34m*\u001b[0m\u001b[0mfiles\u001b[0m\u001b[0;34m)\u001b[0m\u001b[0;34m:\u001b[0m\u001b[0;34m\u001b[0m\u001b[0;34m\u001b[0m\u001b[0m\n\u001b[0;32m--> 156\u001b[0;31m     \"\"\"\n\u001b[0m\u001b[1;32m    157\u001b[0m     \u001b[0mApplies\u001b[0m \u001b[0ma\u001b[0m \u001b[0mgiven\u001b[0m \u001b[0mfunction\u001b[0m \u001b[0mto\u001b[0m \u001b[0meach\u001b[0m \u001b[0mrecord\u001b[0m \u001b[0;32min\u001b[0m \u001b[0ma\u001b[0m \u001b[0mbatch\u001b[0m\u001b[0;34m.\u001b[0m \u001b[0mYou\u001b[0m \u001b[0mcan\u001b[0m\u001b[0;34m\u001b[0m\u001b[0;34m\u001b[0m\u001b[0m\n\u001b[1;32m    158\u001b[0m     \u001b[0;32mpass\u001b[0m \u001b[0;32min\u001b[0m \u001b[0mmultiple\u001b[0m \u001b[0mbatches\u001b[0m\u001b[0;34m.\u001b[0m\u001b[0;34m\u001b[0m\u001b[0;34m\u001b[0m\u001b[0m\n",
      "\u001b[0;31mRecordLengthInvalid\u001b[0m: Invalid record length in first 5 bytes of record"
     ]
    }
   ],
   "source": [
    "import marc2excel\n",
    "marc2excel.marc2excel('Moving-Image-Archive-dataset-MARC.xml', 'file.xls')"
   ]
  },
  {
   "cell_type": "code",
   "execution_count": null,
   "metadata": {},
   "outputs": [],
   "source": []
  }
 ],
 "metadata": {
  "kernelspec": {
   "display_name": "Python 3",
   "language": "python",
   "name": "python3"
  },
  "language_info": {
   "codemirror_mode": {
    "name": "ipython",
    "version": 3
   },
   "file_extension": ".py",
   "mimetype": "text/x-python",
   "name": "python",
   "nbconvert_exporter": "python",
   "pygments_lexer": "ipython3",
   "version": "3.7.3"
  }
 },
 "nbformat": 4,
 "nbformat_minor": 4
}
