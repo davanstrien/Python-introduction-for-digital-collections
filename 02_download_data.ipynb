{
 "cells": [
  {
   "cell_type": "markdown",
   "metadata": {},
   "source": [
    "# Download and process data in Python (aka how to Google when trying to do something in Python)\n",
    "\n",
    "In this notebook we will continue to work on our datasets. Our first challenge is how to download some data in Python"
   ]
  },
  {
   "cell_type": "markdown",
   "metadata": {},
   "source": [
    "# How to download\n",
    "I could tell you about various methds for downloading in our notebooks but lets go through the process together instead. This is often what you'll be doing when using Python for your work. Particularly if your main work isn't programming. "
   ]
  },
  {
   "cell_type": "markdown",
   "metadata": {},
   "source": [
    "# Finding an external library\n",
    "\n",
    "When we looked at why Python one of things mentioned was the availability of libraries to help us do lots of things in Python.  Someone has probably done what you want to do before e.g: \n",
    "- https://pypi.org/project/pih2o/ \n",
    "- https://pypi.org/project/pynamical/\n",
    "\n",
    "and slightly more relevant \n",
    "- https://pypi.org/project/marc2excel/\n",
    "- https://pypi.org/project/filehash/"
   ]
  },
  {
   "cell_type": "markdown",
   "metadata": {},
   "source": [
    "# Google is your friend\n",
    "\n",
    "Let's good \"download files Python\". One of the responses we get is this [article](https://stackabuse.com/download-files-with-python/). This article mentions three possible options. This is something we'll often face. Again Google might help you decide what is appropriate. "
   ]
  },
  {
   "cell_type": "markdown",
   "metadata": {},
   "source": [
    "# Choosing between options\n",
    "\n",
    "Again there are a few ways of deciding between options. One is to use Google again. \n",
    "\n",
    "> [urllib vs requests](http://google.com/#q=urllib+vs+requests) \n",
    "\n",
    "One of the answers we get is a \"stackoverflow\" question. Stackoverlow is a website where you can ask programming questions and people will give answers. This can be a great resource for finding help. Often someone will have already answered the question you have. \n",
    "> https://stackoverflow.com/questions/2018026/what-are-the-differences-between-the-urllib-urllib2-urllib3-and-requests-modul\n",
    "\n",
    "![Example answer on Stackoverflow](figures/stack.png)\n",
    "\n",
    "We can see that Stackoverflow allows you to vote for good responses. This helps filter out 'good' vs 'bad' answers but should be treated carefully. Thing swill also change over time so it's worth checking the date of answers. It seems that 'Requests' might be a good option for us to use. One other place we can look is the projects GitHub (or GitLab etc.) page. \n",
    "\n",
    "## Using GitHub to assess code \n",
    "We have seen that 'Requests' was a suggested option. Let's look at the GitHub quickly. \n",
    "\n",
    "> https://github.com/psf/requests \n",
    "\n",
    "### We can check: \n",
    "\n",
    "#### Stars ✨\n",
    "this is sort of a 'like' system on GitHub. In this case there are lots of stars. We should of course not overuse this. A project dealing with something obscure might be very good but not have many stars because it isn't something lots of people will work with. \n",
    "\n",
    "#### Activity 🤹🏽‍♀️\n",
    "Is there some recent activity? We can check if there has been updates to the code recently. We shouldn't always worry if there hasn't been much activity. Some code can remain stable for a long time without needing changes. \n",
    "\n",
    "#### Issues 👾\n",
    "The issues of a GitHub can also be a good indicator of activity in a project. It's not the case that more issues = more problems but looking at the issues can give you a sense of whether the project is still being invested in by people using and developing the project. \n",
    "\n",
    "#### Documentation 📚\n",
    "It can also be worth checking if a project/library has good/any documentation. This is particularly important when you are getting started. Good documentation might make the difference between being able to get something done or not and should be an important consideration. It doesn't matter much if there is a 'better' or 'quicker' way to do something with another library, if you aren't able to make use of that library because of a lack of documentation. \n"
   ]
  },
  {
   "cell_type": "markdown",
   "metadata": {},
   "source": [
    "# Using Requests \n",
    "We've decided to use Requests. How do we use it download our file?\n",
    "\n",
    "## Read the docs\n",
    "- This is usually a good starting point \n",
    "- Often docs include tutorials \n",
    "\n",
    "## Read a tutorial \n",
    "- Tutorials can be very helpful but sometimes can only focus on a 'toy' example. \n",
    "\n",
    "## Stackoverflow/Google \n",
    "- If you get stuck this can be very helpful. \n",
    "- Again we need to be careful about choosing a suitable answer\n",
    "- Sometimes it's tempting to use answers without fully understanding them. This can be okay but it's worth a) trying to understand the answer, b) checking documentation based on the answer to see if you can replicate a solution yourself\n"
   ]
  },
  {
   "cell_type": "markdown",
   "metadata": {},
   "source": [
    "# Importing packages\n",
    "\n",
    "So far we have used functionality included in python. Now we want to import functionality. The way we do this in Python is using 'imports'. Imports assumes that we have a package installed already. We won't cover how to install packages in Python in these notebooks in great depth. Fortunately Google Colab already has many of the packages we'll need. To import we use ```import package_name```"
   ]
  },
  {
   "cell_type": "code",
   "execution_count": 89,
   "metadata": {},
   "outputs": [],
   "source": [
    "import requests "
   ]
  },
  {
   "cell_type": "markdown",
   "metadata": {},
   "source": [
    "We now have requests imported. Let's look at the Requests documentation and see if it can help us get hold of Frakenstein in a form we can begin to work with. \n",
    "https://requests.readthedocs.io/en/master/\n",
    "\n",
    "In this case looking at the 'quick start' gives us a clue. "
   ]
  },
  {
   "cell_type": "code",
   "execution_count": 114,
   "metadata": {},
   "outputs": [],
   "source": [
    "url = 'https://www.gutenberg.org/files/84/84-0.txt'\n",
    "r = requests.get(url)"
   ]
  },
  {
   "cell_type": "markdown",
   "metadata": {},
   "source": [
    "Lets see what happens if we print out ```r```"
   ]
  },
  {
   "cell_type": "code",
   "execution_count": 115,
   "metadata": {},
   "outputs": [
    {
     "data": {
      "text/plain": [
       "<Response [200]>"
      ]
     },
     "execution_count": 115,
     "metadata": {},
     "output_type": "execute_result"
    }
   ],
   "source": [
    "r"
   ]
  },
  {
   "cell_type": "markdown",
   "metadata": {},
   "source": [
    "This is a good start! As you may know 200 refers to a [HTML response which means OK](https://www.w3.org/Protocols/rfc2616/rfc2616-sec10.html). Let's see if we can get the text. "
   ]
  },
  {
   "cell_type": "markdown",
   "metadata": {},
   "source": [
    "As another tip we can use ? in Jupyter to get documentation. Let's see what r.text will do "
   ]
  },
  {
   "cell_type": "code",
   "execution_count": 99,
   "metadata": {},
   "outputs": [
    {
     "data": {
      "text/plain": [
       "\u001b[0;31mType:\u001b[0m        property\n",
       "\u001b[0;31mString form:\u001b[0m <property object at 0x10edbbf48>\n",
       "\u001b[0;31mDocstring:\u001b[0m  \n",
       "Content of the response, in unicode.\n",
       "\n",
       "If Response.encoding is None, encoding will be guessed using\n",
       "``chardet``.\n",
       "\n",
       "The encoding of the response content is determined based solely on HTTP\n",
       "headers, following RFC 2616 to the letter. If you can take advantage of\n",
       "non-HTTP knowledge to make a better guess at the encoding, you should\n",
       "set ``r.encoding`` appropriately before accessing this property.\n"
      ]
     },
     "metadata": {},
     "output_type": "display_data"
    }
   ],
   "source": [
    "?r.text"
   ]
  },
  {
   "cell_type": "code",
   "execution_count": 102,
   "metadata": {},
   "outputs": [],
   "source": [
    "r.text;"
   ]
  },
  {
   "cell_type": "markdown",
   "metadata": {},
   "source": [
    "# Exercise 🎓 \n",
    "- How can we store this response in a variable?"
   ]
  },
  {
   "cell_type": "code",
   "execution_count": null,
   "metadata": {},
   "outputs": [],
   "source": [
    "# Answer here\n"
   ]
  },
  {
   "cell_type": "code",
   "execution_count": null,
   "metadata": {},
   "outputs": [],
   "source": []
  },
  {
   "cell_type": "code",
   "execution_count": 116,
   "metadata": {},
   "outputs": [],
   "source": [
    "text = r.text"
   ]
  },
  {
   "cell_type": "markdown",
   "metadata": {},
   "source": [
    "# Exercise 🎓\n",
    "- How can we get only the first 250 characters of the text"
   ]
  },
  {
   "cell_type": "code",
   "execution_count": 123,
   "metadata": {},
   "outputs": [],
   "source": [
    "# Answer here \n"
   ]
  },
  {
   "cell_type": "markdown",
   "metadata": {},
   "source": [
    "# Saving "
   ]
  },
  {
   "cell_type": "code",
   "execution_count": 127,
   "metadata": {},
   "outputs": [],
   "source": [
    "file = open(\"book.txt\", \"w\")\n",
    "file.write(r.text)\n",
    "file.close()"
   ]
  },
  {
   "cell_type": "markdown",
   "metadata": {},
   "source": [
    "# For loops \n",
    "For loops are an important concept in many programming languages. Using for loops will start to move us away from doing one thing at a time to doing a series of things. \n",
    "\n",
    "For loops execute a command for each item in a series. The basic idea is something like\n",
    "\n",
    "```python\n",
    "for thing in things:\n",
    "    do something to thing\n",
    "```\n",
    "\n",
    "In a for loop the first line must end in a ```:``` and the next line will be indented\n",
    "\n",
    "Lets look at a proper example:"
   ]
  },
  {
   "cell_type": "code",
   "execution_count": 143,
   "metadata": {},
   "outputs": [
    {
     "name": "stdout",
     "output_type": "stream",
     "text": [
      "1\n",
      "2\n",
      "3\n",
      "4\n",
      "5\n"
     ]
    }
   ],
   "source": [
    "numbers = [1,2,3,4,5]\n",
    "for number in numbers:\n",
    "    print(number)"
   ]
  },
  {
   "cell_type": "markdown",
   "metadata": {},
   "source": [
    "What happens if we do the same thing with a string variable?"
   ]
  },
  {
   "cell_type": "code",
   "execution_count": 144,
   "metadata": {},
   "outputs": [
    {
     "name": "stdout",
     "output_type": "stream",
     "text": [
      "H\n",
      "a\n",
      "r\n",
      "r\n",
      "y\n",
      " \n",
      "P\n",
      "o\n",
      "t\n",
      "t\n",
      "e\n",
      "r\n"
     ]
    }
   ],
   "source": [
    "name = 'Harry Potter'\n",
    "for character in name:\n",
    "    print(character)"
   ]
  },
  {
   "cell_type": "markdown",
   "metadata": {},
   "source": [
    "## For loop parts \n",
    "A for loop is made up of a collection, a loop variable, and a body\n",
    "\n",
    "- The collection is the thing being looped over. This could be many different things. A string, a list, a collection of files. \n",
    "- The body says what we do for each item in the collection \n",
    "- The loop variable is the current item in the collection \n",
    "\n",
    "### loop variables \n",
    "You will have seen that in the first loop we have for **numbers** and the second we have for **characters***. These particular words don't change the behaviour of the loop but they help indicate what items are in the collection we are looping over. You want to try and use something meaningful that helps you and others remember what type of thing you are looping over. To prove we can use another loop variable name"
   ]
  },
  {
   "cell_type": "code",
   "execution_count": 147,
   "metadata": {},
   "outputs": [
    {
     "name": "stdout",
     "output_type": "stream",
     "text": [
      "1\n",
      "2\n",
      "3\n",
      "4\n",
      "5\n"
     ]
    }
   ],
   "source": [
    "numbers = [1,2,3,4,5]\n",
    "for puppy in numbers:\n",
    "    print(puppy)"
   ]
  },
  {
   "cell_type": "markdown",
   "metadata": {},
   "source": [
    "This works even though there are no puppies in numbers. In this case 'number' is more useful for other people to understand what it is you are doing. "
   ]
  },
  {
   "cell_type": "markdown",
   "metadata": {},
   "source": [
    "# Exercise 🎓\n",
    "Print out each of the names in the list below"
   ]
  },
  {
   "cell_type": "code",
   "execution_count": 148,
   "metadata": {},
   "outputs": [],
   "source": [
    "names = ['Berthold', 'Denys', 'Erno']\n",
    "# your code here \n"
   ]
  },
  {
   "cell_type": "markdown",
   "metadata": {},
   "source": [
    "# Exercise 🎓\n",
    "- Can we write some code that prints out the characters in each of these names?"
   ]
  },
  {
   "cell_type": "code",
   "execution_count": 197,
   "metadata": {},
   "outputs": [],
   "source": [
    "# Your code here\n"
   ]
  },
  {
   "cell_type": "markdown",
   "metadata": {},
   "source": [
    "# Back to Frakenstein \n",
    "Now we now how to loop and we have a text file downloaded lets see if we can use what we have learned so far to do some basic counting."
   ]
  },
  {
   "cell_type": "markdown",
   "metadata": {},
   "source": [
    "# Opening a file in Python \n",
    "We already saw above that we can use ```open()``` to open a file. Let's open the file we saved earlier. To make sure we all have the file we'll repeat the steps here again. "
   ]
  },
  {
   "cell_type": "code",
   "execution_count": 171,
   "metadata": {},
   "outputs": [],
   "source": [
    "url = 'https://www.gutenberg.org/files/84/84-0.txt'\n",
    "r = requests.get(url)\n",
    "file = open('book.txt','w')\n",
    "file.write(r.text)\n",
    "file.close()"
   ]
  },
  {
   "cell_type": "code",
   "execution_count": 183,
   "metadata": {},
   "outputs": [],
   "source": [
    "file = open('book.txt')"
   ]
  },
  {
   "cell_type": "markdown",
   "metadata": {},
   "source": [
    "Again we can use the power of completion to see what options we have"
   ]
  },
  {
   "cell_type": "code",
   "execution_count": null,
   "metadata": {},
   "outputs": [],
   "source": [
    "file."
   ]
  },
  {
   "cell_type": "code",
   "execution_count": 184,
   "metadata": {},
   "outputs": [],
   "source": [
    "text = file.readlines()"
   ]
  },
  {
   "cell_type": "markdown",
   "metadata": {},
   "source": [
    "```readlines()``` will read a line at a time. "
   ]
  },
  {
   "cell_type": "markdown",
   "metadata": {},
   "source": [
    "At the moment 'text' contains the whole book. To make things a bit easier we can slide the first 50 lines of this. "
   ]
  },
  {
   "cell_type": "code",
   "execution_count": 185,
   "metadata": {},
   "outputs": [],
   "source": [
    "text_50 = text[:50]"
   ]
  },
  {
   "cell_type": "code",
   "execution_count": null,
   "metadata": {},
   "outputs": [],
   "source": [
    "We can check what happpens when we loop through this. "
   ]
  },
  {
   "cell_type": "code",
   "execution_count": 188,
   "metadata": {},
   "outputs": [
    {
     "name": "stdout",
     "output_type": "stream",
     "text": [
      "ï»¿\n",
      "\n",
      "Project Gutenberg's Frankenstein, by Mary Wollstonecraft (Godwin) Shelley\n",
      "\n",
      "\n",
      "\n",
      "This eBook is for the use of anyone anywhere at no cost and with\n",
      "\n",
      "almost no restrictions whatsoever.  You may copy it, give it away or\n",
      "\n",
      "re-use it under the terms of the Project Gutenberg License included\n",
      "\n",
      "with this eBook or online at www.gutenberg.net\n",
      "\n",
      "\n",
      "\n",
      "\n",
      "\n",
      "Title: Frankenstein\n",
      "\n",
      "       or The Modern Prometheus\n",
      "\n",
      "\n",
      "\n",
      "Author: Mary Wollstonecraft (Godwin) Shelley\n",
      "\n",
      "\n",
      "\n",
      "Release Date: June 17, 2008 [EBook #84]\n",
      "\n",
      "Last updated: January 13, 2018\n",
      "\n",
      "\n",
      "\n",
      "Language: English\n",
      "\n",
      "\n",
      "\n",
      "Character set encoding: UTF-8\n",
      "\n",
      "\n",
      "\n",
      "*** START OF THIS PROJECT GUTENBERG EBOOK FRANKENSTEIN ***\n",
      "\n",
      "\n",
      "\n",
      "\n",
      "\n",
      "\n",
      "\n",
      "\n",
      "\n",
      "Produced by Judith Boss, Christy Phillips, Lynn Hanninen,\n",
      "\n",
      "and David Meltzer. HTML version by Al Haines.\n",
      "\n",
      "Further corrections by Menno de Leeuw.\n",
      "\n",
      "\n",
      "\n",
      "\n",
      "\n",
      "\n",
      "\n",
      "Frankenstein;\n",
      "\n",
      "\n",
      "\n",
      "\n",
      "\n",
      "or, the Modern Prometheus\n",
      "\n",
      "\n",
      "\n",
      "\n",
      "\n",
      "\n",
      "\n",
      "\n",
      "\n",
      "by\n",
      "\n",
      "\n",
      "\n",
      "\n",
      "\n",
      "Mary Wollstonecraft (Godwin) Shelley\n",
      "\n",
      "\n",
      "\n",
      "\n",
      "\n",
      "\n",
      "\n",
      "\n",
      "\n",
      "\n",
      "\n",
      "\n",
      "\n"
     ]
    }
   ],
   "source": [
    "for line in text_50:\n",
    "    print(line)"
   ]
  },
  {
   "cell_type": "markdown",
   "metadata": {},
   "source": [
    "# Conditionals \n",
    "\n",
    "Another very important concept in programming is conditionals. This conditional says whether to do something or not. \n",
    "The general syntax is:\n",
    "\n",
    "```python\n",
    "if something is true:\n",
    "    do something\n",
    "```\n",
    "\n",
    "Lets look at a proper example:"
   ]
  },
  {
   "cell_type": "code",
   "execution_count": 190,
   "metadata": {},
   "outputs": [
    {
     "name": "stdout",
     "output_type": "stream",
     "text": [
      "20\n"
     ]
    }
   ],
   "source": [
    "number = 20\n",
    "if number > 10:\n",
    "    print(number)"
   ]
  },
  {
   "cell_type": "markdown",
   "metadata": {},
   "source": [
    "If we do the same thing with a number lower than 10"
   ]
  },
  {
   "cell_type": "code",
   "execution_count": 191,
   "metadata": {},
   "outputs": [],
   "source": [
    "number = 1\n",
    "if number > 10:\n",
    "    print(number)"
   ]
  },
  {
   "cell_type": "markdown",
   "metadata": {},
   "source": [
    "This time we don't get any output because the condition isn't met. Let's see another example:"
   ]
  },
  {
   "cell_type": "code",
   "execution_count": 194,
   "metadata": {},
   "outputs": [
    {
     "name": "stdout",
     "output_type": "stream",
     "text": [
      "a is in name\n"
     ]
    }
   ],
   "source": [
    "name = 'Harry' \n",
    "if 'a' in name:\n",
    "    print('a is in name')"
   ]
  },
  {
   "cell_type": "markdown",
   "metadata": {},
   "source": [
    "We haven't seen ```in``` before but we can probably guess what it does. "
   ]
  },
  {
   "cell_type": "markdown",
   "metadata": {},
   "source": [
    "# Using a conditional in a loop \n",
    "Conditionals are often used inside a loop. This allows you to decide whether to do something with/to an item in your collection depending on whether a condition is met. Let's look at an example. This mainly uses things we have already seen:"
   ]
  },
  {
   "cell_type": "code",
   "execution_count": 195,
   "metadata": {},
   "outputs": [
    {
     "name": "stdout",
     "output_type": "stream",
     "text": [
      "5\n"
     ]
    }
   ],
   "source": [
    "total = 0 \n",
    "for line in text_50:\n",
    "    if 'the' in line:\n",
    "        total +=1 \n",
    "print(total)"
   ]
  },
  {
   "cell_type": "markdown",
   "metadata": {},
   "source": [
    "# Exercise 🎓\n",
    "What does this code do? "
   ]
  },
  {
   "cell_type": "code",
   "execution_count": 209,
   "metadata": {},
   "outputs": [
    {
     "name": "stdout",
     "output_type": "stream",
     "text": [
      "5\n"
     ]
    }
   ],
   "source": [
    "# Add comments for each line \n",
    "total = 0  #\n",
    "for line in text_50: #\n",
    "    if 'the' in line: #\n",
    "        total +=1 #\n",
    "print(total) #"
   ]
  },
  {
   "cell_type": "markdown",
   "metadata": {},
   "source": [
    "# 🏁 Fin \n"
   ]
  }
 ],
 "metadata": {
  "kernelspec": {
   "display_name": "Python 3",
   "language": "python",
   "name": "python3"
  },
  "language_info": {
   "codemirror_mode": {
    "name": "ipython",
    "version": 3
   },
   "file_extension": ".py",
   "mimetype": "text/x-python",
   "name": "python",
   "nbconvert_exporter": "python",
   "pygments_lexer": "ipython3",
   "version": "3.7.3"
  }
 },
 "nbformat": 4,
 "nbformat_minor": 4
}
