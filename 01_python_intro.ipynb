{
 "cells": [
  {
   "cell_type": "markdown",
   "metadata": {},
   "source": [
    "# Introduction to Python (for working with Digital Collections)\n",
    " \n",
    "This series of notebooks aims to provide an introduction to things that can be achieved fairly easily with Python. The examples are framed around work with digital collections. \n",
    "\n",
    "## Aims \n",
    "The aims of the notebooks/lesson are primarily:\n",
    "- to help you decide whether it might be worth your time learning *some* Python\n",
    "- Give you some ideas for some ways in which you can approach *how* to learn Python for the purpose of working with collections items\n",
    "\n",
    "## Non aims (is that a thing!?) \n",
    "- to teach you Python in a few hours\n",
    "- teach you to become a software engineer. The way in which you might use Python for tackling practical problems in your work might not always fit with best practices from software engineering. It is still very worthwhile trying to learn these concepts but not at the expense of getting useful things done. \n",
    "\n",
    "## What the notebooks cover \n",
    "\n",
    "- Why Python? \n",
    "- Some Python syntax \n",
    "\n",
    "Working with Python and Pandas to do some simple work with data\n",
    "- How to assess python packages \n",
    "- debugging issues\n",
    "- working in notebooks "
   ]
  },
  {
   "cell_type": "markdown",
   "metadata": {},
   "source": [
    "# Why Python?\n",
    "\n",
    "- There are many programming languages you could potentially choose to learn. Some of the languages are widely used and underpin a broad range of software (and hardware) you use on a day-to-day basis. \n",
    "- Other languages are primarily used in one very specific field either because they work particularly well for that task or as a result of legacy systems (you can earn big 💲 working as an IT contractor in banking if you know COBOL, a language first developed in the 60s which still powers a lot of banking systems and few people now know)\n",
    "\n",
    "There are some reasons why Python could be a good choice as a programming language to learn:\n",
    "\n",
    "## Syntax \n",
    "\n",
    "The syntax of a programming language refers to the rules a language follows to combine symbols and sequences i.e. how you write commands to the computer. Let's look at an example for printing ```Hello, world!```\n",
    "\n",
    "### In Python: \n",
    "\n",
    "```python \n",
    "print('Hello, world!')\n",
    "```\n",
    "\n",
    "### In C:\n",
    "\n",
    "```C\n",
    "#include <stdio.h>\n",
    "\n",
    "int main(void)\n",
    "{\n",
    "    printf(\"hello, world\\n\");\n",
    "}\n",
    "```\n",
    "\n",
    "We can see that there is a lot less required as code to get Python to do the same thing. This is not an exclusive property of Python. Some programming languages are 'high level', others are 'low level'. A high level language usually has an easier to understand syntax. In this case 'C' can be considered a lower level language. This often requires you to be more explicit about how you want a machine to do something whilst a higher level language can \n",
    "\n",
    "Another toy example of Python syntax \n",
    "\n",
    "### Python \n",
    "\n",
    "```python\n",
    "\n",
    "files = ['2019_12_10_visitor_stats.csv', '2019_10_10_visitor_stats.csv', '2020_01_01_visitor_stats.csv','draft_proposal.docx']\n",
    "for file in files:\n",
    "    if '2019' in file:\n",
    "        print(file)\n",
    "```\n",
    "\n",
    "With a bit of luck you'll be able to follow what is happening here even if you don't know Python yet. One of the nice things about python is that it often possible to understand what's happening in some Python code even if you couldn't necessarily write the same code yourself. \n",
    "\n",
    "#### 🤫 You will read more code than you write \n",
    "\n",
    "Your typing speed is unlikely to be the barrier to how quickly you can code (at least for some time). Instead you will often be trying to work out how to do things in Python using a combination of your code and code written by other people. Being able to understand the syntax of code will make it much easier for you to work out what code you can borrow and adapt from other people.\n",
    "\n",
    "## Adoption \n",
    "\n",
    "Python is widely used which means you will find plenty of resources for using it. It also makes it more likely that other people you work with may know some (or a lot) of it too. \n",
    "\n",
    "Python is also used widely accross a broad range of domains (research and industry) and for a broad range of applications (web development, data science, networking, databases...) \n",
    "\n",
    "## Libraries \n",
    "Python has loads of software libraries. These libraries help you do a whole range of things more easily in Python. This ranges from [tools for working with marc](https://pypi.org/project/pymarc/) to [astronomy](https://www.astropy.org/). \n",
    "\n",
    "## Why not Python?\n",
    "\n",
    "There are downsides to Python too. Some reasons you may not want to use Python:\n",
    "- if you are want to focus on 'front-end' web development you will want to learn javascript and HTML/CSS (this doesn't mean you can't use Python to build websites) \n",
    "- if performance/speed is critical for what you are doing, there are many ways to speed up Python code but if absolute performance is critical then you may want to consider another language. This is likely to be an issue in a heritage context (think algorithmic trading)\n",
    "- your colleagues all use another language (it might be more useful to be able to get help) \n",
    "- you want to use other languages (there are plenty of other languages to learn 😀)"
   ]
  },
  {
   "cell_type": "markdown",
   "metadata": {},
   "source": [
    "# Let's do something!\n",
    "\n",
    "\n",
    "We'll work with two main sources of data:\n",
    "\n",
    "- A [newspapers title list](https://bl.iro.bl.uk/work/7da47fac-a759-49e2-a95a-26d49004eba8) from the British Libraries institutional repository. \n",
    "- The text version of Frankenstein; Or, The Modern Prometheus by Mary Wollstonecraft Shelley from [Project Gutenberg](https://www.gutenberg.org/ebooks/84). \n",
    "\n",
    "## What we'll try and do\n",
    "- Download both of these (in the notebooks) \n",
    "- Load these in a way in which we can use them in Python \n",
    "- Do some simple tidying of the data \n",
    "- Do some simple analysis of the data\n"
   ]
  },
  {
   "cell_type": "markdown",
   "metadata": {},
   "source": [
    "# Jupyter notebook \n",
    "Shift ⇧ and Enter"
   ]
  },
  {
   "cell_type": "markdown",
   "metadata": {},
   "source": [
    "## Variables\n",
    "\n",
    "- Variables are the way Python stores values\n",
    "- Variables are 'assigned' using ```=```\n",
    "- For examples ```name = \"Daniel\"``` or ```visitor_num = 100```\n",
    "- These variables can be many different types of things "
   ]
  },
  {
   "cell_type": "code",
   "execution_count": 1,
   "metadata": {},
   "outputs": [],
   "source": [
    "name = \"Daniel\""
   ]
  },
  {
   "cell_type": "markdown",
   "metadata": {},
   "source": [
    "# Exercise 🎓 \n",
    "Try an assign your name to the ```your_name``` variable "
   ]
  },
  {
   "cell_type": "code",
   "execution_count": null,
   "metadata": {},
   "outputs": [],
   "source": [
    "your_name = \"daniel\""
   ]
  },
  {
   "cell_type": "markdown",
   "metadata": {},
   "source": [
    "### Using our variables\n",
    "We can now use these variables:"
   ]
  },
  {
   "cell_type": "code",
   "execution_count": null,
   "metadata": {},
   "outputs": [],
   "source": [
    "print('My name is ' + name + ' it is nice to meet you ' + your_name)"
   ]
  },
  {
   "cell_type": "markdown",
   "metadata": {},
   "source": [
    "## Create URL variable \n",
    "\n",
    "Now we know how to assign variables we can use that to store the url which points to the dataset we want to download "
   ]
  },
  {
   "cell_type": "code",
   "execution_count": 4,
   "metadata": {},
   "outputs": [],
   "source": [
    "url = 'https://bl.oar.bl.uk/fail_uploads/download_file?fileset_id=67b25f41-a682-4c1f-bf42-550e06b48244'"
   ]
  },
  {
   "cell_type": "markdown",
   "metadata": {},
   "source": [
    "Why the quotes? "
   ]
  },
  {
   "cell_type": "code",
   "execution_count": null,
   "metadata": {},
   "outputs": [],
   "source": [
    "url = https://bl.oar.bl.uk/fail_uploads/download_file?fileset_id=67b25f41-a682-4c1f-bf42-550e06b48244"
   ]
  },
  {
   "cell_type": "markdown",
   "metadata": {},
   "source": [
    "### String variables \n",
    "This didn't work because we are trying to assign a [string](https://docs.python.org/3/library/stdtypes.html#textseq) variable but we didn't use the correct syntax. \n",
    "\n",
    "We tell python that it is a string by using ```' ' ``` or ```\" \"```.\n",
    "We'll get back to this in a little more detail below. For now, if we want to store a variable which is text based we should wrap it in single or double quotation marks. "
   ]
  },
  {
   "cell_type": "markdown",
   "metadata": {},
   "source": [
    "# 🧙‍♂️ A note on errors and debugging \n",
    "Error messages are a standard part of programming. You should treat them as a 'feedback' from the program about how to fix things rather than a big problem. Jupyter notebooks are great for this because you can easily split your code which makes it easier to isolate where things have gone wrong. For this reason I've left error messages in. Sometimes you will work through tutorials where everything works perfectly and as soon as you try and change a single thing everything breaks. It's important to become familiar with working through errors so we'll do this together as part of the lesson. "
   ]
  },
  {
   "cell_type": "markdown",
   "metadata": {},
   "source": [
    "### Naming variables \n",
    "There are some rules to how we name variables. Some rules you will need to memorize, other times you will get some helpful feedback telling you there is a problem. "
   ]
  },
  {
   "cell_type": "markdown",
   "metadata": {},
   "source": [
    "#### Capitalization matters\n",
    "Lets see what happens if we reuse the url variable above but with capitals?"
   ]
  },
  {
   "cell_type": "code",
   "execution_count": null,
   "metadata": {},
   "outputs": [],
   "source": [
    "# Same variable name with capitals\n",
    "URL = 'google.com'\n",
    "URL"
   ]
  },
  {
   "cell_type": "markdown",
   "metadata": {},
   "source": [
    "let's check our previous variable "
   ]
  },
  {
   "cell_type": "code",
   "execution_count": null,
   "metadata": {},
   "outputs": [],
   "source": [
    "url"
   ]
  },
  {
   "cell_type": "markdown",
   "metadata": {},
   "source": [
    "uh oh! This could get confusing! We should be careful and as a general rule usually in Python variable names are in lower case. "
   ]
  },
  {
   "cell_type": "markdown",
   "metadata": {},
   "source": [
    "### Naming variables \n",
    "Try and use variable names that are meaningful. You should try and balance being expressive and being concise"
   ]
  },
  {
   "cell_type": "code",
   "execution_count": null,
   "metadata": {},
   "outputs": [],
   "source": [
    "n = 'Daniel'\n",
    "name = 'Daniel'\n",
    "first_name = 'Daniel'"
   ]
  },
  {
   "cell_type": "markdown",
   "metadata": {},
   "source": [
    "All of these will work but the second and third options might be clearer. Try and be helpful to other people reading your code. "
   ]
  },
  {
   "cell_type": "markdown",
   "metadata": {},
   "source": [
    "#### Some variables are 'keywords' which are reserved by Python\n",
    "Some variable names won't work because they are reserved by Python. If we try these names we'll get an error. "
   ]
  },
  {
   "cell_type": "code",
   "execution_count": null,
   "metadata": {},
   "outputs": [],
   "source": [
    "# naming: reserved\n",
    "class = 'https://bl.oar.bl.uk/fail_uploads/download_file?fileset_id=67b25f41-a682-4c1f-bf42-550e06b48244'"
   ]
  },
  {
   "cell_type": "markdown",
   "metadata": {},
   "source": [
    "Oops we get ```SyntaxError``` We can see a list of these keyword below but don't worry about memorising them. "
   ]
  },
  {
   "cell_type": "code",
   "execution_count": null,
   "metadata": {},
   "outputs": [],
   "source": [
    "import keyword\n",
    "print(keyword.kwlist)"
   ]
  },
  {
   "cell_type": "markdown",
   "metadata": {},
   "source": [
    "### Debugging in Jupyter\n",
    "\n",
    "In the above example you will see that when we tried to give a variable the name ```class``` it was highlighted in dark green. This gives us a clue that this word has a special meaning in Python. "
   ]
  },
  {
   "cell_type": "code",
   "execution_count": null,
   "metadata": {},
   "outputs": [],
   "source": [
    "# See how keywords are highlighted in dark green \n",
    "try doggie for cat "
   ]
  },
  {
   "cell_type": "markdown",
   "metadata": {},
   "source": [
    "# Comments \n",
    "You will already have seen that we can include a comment by using ```#``` This line will be ignored by Python but can be used to communicate what you are trying to do to other people. "
   ]
  },
  {
   "cell_type": "markdown",
   "metadata": {},
   "source": [
    "### Printing\n",
    "\n",
    "Printing can be done with the print function. When you get started with Python you will print things a lot. It can be very useful to print variables as you manipulate them to check how things look. \n",
    "\n",
    "You can print a string (or other things) directly or print a variable"
   ]
  },
  {
   "cell_type": "code",
   "execution_count": null,
   "metadata": {},
   "outputs": [],
   "source": [
    "print(\"string\")"
   ]
  },
  {
   "cell_type": "code",
   "execution_count": null,
   "metadata": {},
   "outputs": [],
   "source": [
    "print(url)"
   ]
  },
  {
   "cell_type": "markdown",
   "metadata": {},
   "source": [
    "### Notebook specific behaviour "
   ]
  },
  {
   "cell_type": "code",
   "execution_count": null,
   "metadata": {},
   "outputs": [],
   "source": [
    "url"
   ]
  },
  {
   "cell_type": "code",
   "execution_count": null,
   "metadata": {},
   "outputs": [],
   "source": []
  },
  {
   "cell_type": "markdown",
   "metadata": {},
   "source": [
    "# Functions\n",
    "Functions perform tasks in a program. We already saw an example with ```print()``` \n",
    "Some functions are included within Python. For example ```len()``` "
   ]
  },
  {
   "cell_type": "code",
   "execution_count": 57,
   "metadata": {},
   "outputs": [
    {
     "data": {
      "text/plain": [
       "95"
      ]
     },
     "execution_count": 57,
     "metadata": {},
     "output_type": "execute_result"
    }
   ],
   "source": [
    "len(url)"
   ]
  },
  {
   "cell_type": "markdown",
   "metadata": {},
   "source": [
    "Python functions are identified by ```()``` Often you need to pass one or more 'arguments' to a function (though not always). These tell your function either how you want the function to work or what you want to perform a function on. "
   ]
  },
  {
   "cell_type": "markdown",
   "metadata": {},
   "source": [
    "# Methods\n",
    "Closely related to functions are methods. These look a little bit different and are usually applied to a variable. \n",
    "The notation is ```VARIABLE.()```. Sometimes the ```()``` also take an argument. "
   ]
  },
  {
   "cell_type": "code",
   "execution_count": 48,
   "metadata": {},
   "outputs": [
    {
     "name": "stdout",
     "output_type": "stream",
     "text": [
      "https://bl.oar.bl.uk/fail_uploads/download_file?fileset_id=67b25f41-a682-4c1f-bf42-550e06b48244\n"
     ]
    },
    {
     "data": {
      "text/plain": [
       "['https://bl.oar.bl.uk/fail_uploads/download_file?fileset_id=67b25f41-a682-4c1f-bf42-550e06b48244']"
      ]
     },
     "execution_count": 48,
     "metadata": {},
     "output_type": "execute_result"
    }
   ],
   "source": [
    "print(url) # function \n",
    "url.split() # method "
   ]
  },
  {
   "cell_type": "code",
   "execution_count": 49,
   "metadata": {},
   "outputs": [
    {
     "data": {
      "text/plain": [
       "['https:',\n",
       " '',\n",
       " 'bl.oar.bl.uk',\n",
       " 'fail_uploads',\n",
       " 'download_file?fileset_id=67b25f41-a682-4c1f-bf42-550e06b48244']"
      ]
     },
     "execution_count": 49,
     "metadata": {},
     "output_type": "execute_result"
    }
   ],
   "source": [
    "url.split('/')"
   ]
  },
  {
   "cell_type": "markdown",
   "metadata": {},
   "source": [
    "# 🤔 functions or methods? \n",
    "We won't worry too much about the nuances of each of these. As you become more familiar with Python you will learn more about how these are different. Let's take a look at some more examples.  "
   ]
  },
  {
   "cell_type": "code",
   "execution_count": 6,
   "metadata": {},
   "outputs": [
    {
     "data": {
      "text/plain": [
       "'HTTPS://BL.OAR.BL.UK/FAIL_UPLOADS/DOWNLOAD_FILE?FILESET_ID=67B25F41-A682-4C1F-BF42-550E06B48244'"
      ]
     },
     "execution_count": 6,
     "metadata": {},
     "output_type": "execute_result"
    }
   ],
   "source": [
    "url.upper()"
   ]
  },
  {
   "cell_type": "markdown",
   "metadata": {},
   "source": [
    "We can also use the ```tab``` key to show us possible completions for methods. This is a great way of seeing what methods are available"
   ]
  },
  {
   "cell_type": "code",
   "execution_count": null,
   "metadata": {},
   "outputs": [],
   "source": [
    "# hit tab to see available methods \n",
    "url."
   ]
  },
  {
   "cell_type": "code",
   "execution_count": 46,
   "metadata": {},
   "outputs": [
    {
     "data": {
      "text/plain": [
       "2"
      ]
     },
     "execution_count": 46,
     "metadata": {},
     "output_type": "execute_result"
    }
   ],
   "source": [
    "number = 3\n",
    "number.bit_length()"
   ]
  },
  {
   "cell_type": "markdown",
   "metadata": {},
   "source": [
    "# What arguments does a method or function take? \n",
    "We can use Jupyter to help us out with this again. When you put your cursor in between the brackets and hit ```shift``` and ```tab``` you will get a docstring. This will look a bit like this: \n",
    "\n",
    "![Docstring example](https://i.stack.imgur.com/obrIU.png) \n"
   ]
  },
  {
   "cell_type": "markdown",
   "metadata": {},
   "source": [
    "Lets try this. Place you cursor after the split and hit ```shift``` + ```tab```. You should see a docstring come up. "
   ]
  },
  {
   "cell_type": "code",
   "execution_count": 51,
   "metadata": {},
   "outputs": [
    {
     "data": {
      "text/plain": [
       "['https://bl.oar.bl.uk/fail_uploads/download_file?fileset_id=67b25f41-a682-4c1f-bf42-550e06b48244']"
      ]
     },
     "execution_count": 51,
     "metadata": {},
     "output_type": "execute_result"
    }
   ],
   "source": [
    "url.split()"
   ]
  },
  {
   "cell_type": "markdown",
   "metadata": {},
   "source": [
    "# 🧙🏽‍♀️ Don't try and memorize - get efficient with looking things up! \n",
    "\n",
    "There are a lot of things you could try and memorize when learning Python. Some of these are essential to learn, particularly the syntax of Python. Other things though are either things you use so often you will memorize them automatically or are used rarely enough that you are better to look things up when you need. The key is to become efficient inn doing this. Making heavy use of docstrings is a good example of using Jupyter notebooks to become more efficient in looking things up. \n",
    "\n",
    "Another way of getting help is to use the 'help' function. This will give you information about builtin functions "
   ]
  },
  {
   "cell_type": "code",
   "execution_count": 62,
   "metadata": {},
   "outputs": [
    {
     "name": "stdout",
     "output_type": "stream",
     "text": [
      "Help on built-in function len in module builtins:\n",
      "\n",
      "len(obj, /)\n",
      "    Return the number of items in a container.\n",
      "\n"
     ]
    }
   ],
   "source": [
    "help(len)"
   ]
  },
  {
   "cell_type": "markdown",
   "metadata": {},
   "source": [
    "# Exercise 🎓 \n",
    "- Create a variable that stores your name in lower case \n",
    "- print out your name using this variable \n",
    "- now see if you can use a method on your variable to capitalize your name"
   ]
  },
  {
   "cell_type": "code",
   "execution_count": 54,
   "metadata": {},
   "outputs": [],
   "source": [
    "# your solution here"
   ]
  },
  {
   "cell_type": "markdown",
   "metadata": {},
   "source": [
    "# Python Data Types \n",
    "Within Python there are different built in types. We won't spend too long on these but it's useful to become a little bit familiar with some of the important points. Let's see what happens if we try and add 1 to our url."
   ]
  },
  {
   "cell_type": "code",
   "execution_count": 9,
   "metadata": {},
   "outputs": [
    {
     "ename": "TypeError",
     "evalue": "can only concatenate str (not \"int\") to str",
     "output_type": "error",
     "traceback": [
      "\u001b[0;31m---------------------------------------------------------------------------\u001b[0m",
      "\u001b[0;31mTypeError\u001b[0m                                 Traceback (most recent call last)",
      "\u001b[0;32m<ipython-input-9-4ba4271d19e3>\u001b[0m in \u001b[0;36m<module>\u001b[0;34m\u001b[0m\n\u001b[0;32m----> 1\u001b[0;31m \u001b[0murl\u001b[0m \u001b[0;34m+\u001b[0m \u001b[0;36m1\u001b[0m\u001b[0;34m\u001b[0m\u001b[0;34m\u001b[0m\u001b[0m\n\u001b[0m",
      "\u001b[0;31mTypeError\u001b[0m: can only concatenate str (not \"int\") to str"
     ]
    }
   ],
   "source": [
    "url + 1"
   ]
  },
  {
   "cell_type": "markdown",
   "metadata": {},
   "source": [
    "What do you think went wrong? "
   ]
  },
  {
   "cell_type": "code",
   "execution_count": 10,
   "metadata": {},
   "outputs": [
    {
     "data": {
      "text/plain": [
       "str"
      ]
     },
     "execution_count": 10,
     "metadata": {},
     "output_type": "execute_result"
    }
   ],
   "source": [
    "type(url)"
   ]
  },
  {
   "cell_type": "code",
   "execution_count": 11,
   "metadata": {},
   "outputs": [
    {
     "data": {
      "text/plain": [
       "int"
      ]
     },
     "execution_count": 11,
     "metadata": {},
     "output_type": "execute_result"
    }
   ],
   "source": [
    "type(1)"
   ]
  },
  {
   "cell_type": "markdown",
   "metadata": {},
   "source": [
    "As the error message above says, we can't concatenate a string (our url) and an int(1). "
   ]
  },
  {
   "cell_type": "markdown",
   "metadata": {},
   "source": [
    "# What types are there? \n",
    "We have already seen a few:\n",
    "\n",
    "- int: a whole number\n",
    "- str: strings (text) \n",
    "\n",
    "We also have \n",
    "- float: a number with a decimal "
   ]
  },
  {
   "cell_type": "code",
   "execution_count": 16,
   "metadata": {},
   "outputs": [
    {
     "data": {
      "text/plain": [
       "float"
      ]
     },
     "execution_count": 16,
     "metadata": {},
     "output_type": "execute_result"
    }
   ],
   "source": [
    "type(1.0)"
   ]
  },
  {
   "cell_type": "markdown",
   "metadata": {},
   "source": [
    "We can try combining our url with 1 again. "
   ]
  },
  {
   "cell_type": "code",
   "execution_count": 19,
   "metadata": {},
   "outputs": [
    {
     "data": {
      "text/plain": [
       "'https://bl.oar.bl.uk/fail_uploads/download_file?fileset_id=67b25f41-a682-4c1f-bf42-550e06b482441'"
      ]
     },
     "execution_count": 19,
     "metadata": {},
     "output_type": "execute_result"
    }
   ],
   "source": [
    "url + \"1\""
   ]
  },
  {
   "cell_type": "markdown",
   "metadata": {},
   "source": [
    "This time it works because we are using ```\" \"``` too indicate that 1 is a string. "
   ]
  },
  {
   "cell_type": "markdown",
   "metadata": {},
   "source": [
    "We can sometimes change between types by using a built in python functions. "
   ]
  },
  {
   "cell_type": "code",
   "execution_count": 31,
   "metadata": {},
   "outputs": [
    {
     "data": {
      "text/plain": [
       "'1'"
      ]
     },
     "execution_count": 31,
     "metadata": {},
     "output_type": "execute_result"
    }
   ],
   "source": [
    "str(1)"
   ]
  },
  {
   "cell_type": "code",
   "execution_count": 32,
   "metadata": {},
   "outputs": [
    {
     "data": {
      "text/plain": [
       "1"
      ]
     },
     "execution_count": 32,
     "metadata": {},
     "output_type": "execute_result"
    }
   ],
   "source": [
    "int('1')"
   ]
  },
  {
   "cell_type": "markdown",
   "metadata": {},
   "source": [
    "This won't always work. "
   ]
  },
  {
   "cell_type": "code",
   "execution_count": 33,
   "metadata": {},
   "outputs": [
    {
     "ename": "ValueError",
     "evalue": "invalid literal for int() with base 10: 'daniel'",
     "output_type": "error",
     "traceback": [
      "\u001b[0;31m---------------------------------------------------------------------------\u001b[0m",
      "\u001b[0;31mValueError\u001b[0m                                Traceback (most recent call last)",
      "\u001b[0;32m<ipython-input-33-30474b9c46c1>\u001b[0m in \u001b[0;36m<module>\u001b[0;34m\u001b[0m\n\u001b[0;32m----> 1\u001b[0;31m \u001b[0mint\u001b[0m\u001b[0;34m(\u001b[0m\u001b[0;34m'daniel'\u001b[0m\u001b[0;34m)\u001b[0m\u001b[0;34m\u001b[0m\u001b[0;34m\u001b[0m\u001b[0m\n\u001b[0m",
      "\u001b[0;31mValueError\u001b[0m: invalid literal for int() with base 10: 'daniel'"
     ]
    }
   ],
   "source": [
    "int('daniel')"
   ]
  },
  {
   "cell_type": "markdown",
   "metadata": {},
   "source": [
    "In this case there is no obvious way to convert this string into an integer"
   ]
  },
  {
   "cell_type": "markdown",
   "metadata": {},
   "source": [
    "# Making changes to a variable \n",
    "We've seen a few examples of manipulating variables. What happens to these changes?"
   ]
  },
  {
   "cell_type": "code",
   "execution_count": 24,
   "metadata": {},
   "outputs": [
    {
     "data": {
      "text/plain": [
       "'https://bl.oar.bl.uk/fail_uploads/download_file?fileset_id=67b25f41-a682-4c1f-bf42-550e06b48244'"
      ]
     },
     "execution_count": 24,
     "metadata": {},
     "output_type": "execute_result"
    }
   ],
   "source": [
    "url "
   ]
  },
  {
   "cell_type": "markdown",
   "metadata": {},
   "source": [
    "huh? no change to url "
   ]
  },
  {
   "cell_type": "code",
   "execution_count": 34,
   "metadata": {},
   "outputs": [
    {
     "data": {
      "text/plain": [
       "'HTTPS://BL.OAR.BL.UK/FAIL_UPLOADS/DOWNLOAD_FILE?FILESET_ID=67B25F41-A682-4C1F-BF42-550E06B48244'"
      ]
     },
     "execution_count": 34,
     "metadata": {},
     "output_type": "execute_result"
    }
   ],
   "source": [
    "url.upper()"
   ]
  },
  {
   "cell_type": "code",
   "execution_count": 26,
   "metadata": {},
   "outputs": [
    {
     "data": {
      "text/plain": [
       "'https://bl.oar.bl.uk/fail_uploads/download_file?fileset_id=67b25f41-a682-4c1f-bf42-550e06b48244'"
      ]
     },
     "execution_count": 26,
     "metadata": {},
     "output_type": "execute_result"
    }
   ],
   "source": [
    "url"
   ]
  },
  {
   "cell_type": "markdown",
   "metadata": {},
   "source": [
    "In these examples we haven't stored our changes anywhere. We either need to create a new variable to store our modified variable or 'reassign' our variable with the changes. "
   ]
  },
  {
   "cell_type": "code",
   "execution_count": 27,
   "metadata": {},
   "outputs": [
    {
     "data": {
      "text/plain": [
       "'https://bl.oar.bl.uk/fail_uploads/download_file?fileset_id=67b25f41-a682-4c1f-bf42-550e06b48244_new'"
      ]
     },
     "execution_count": 27,
     "metadata": {},
     "output_type": "execute_result"
    }
   ],
   "source": [
    "# Re-assign\n",
    "new_url = url + \"_new\"\n",
    "new_url"
   ]
  },
  {
   "cell_type": "markdown",
   "metadata": {},
   "source": [
    "We still have the old one"
   ]
  },
  {
   "cell_type": "code",
   "execution_count": 28,
   "metadata": {},
   "outputs": [
    {
     "data": {
      "text/plain": [
       "'https://bl.oar.bl.uk/fail_uploads/download_file?fileset_id=67b25f41-a682-4c1f-bf42-550e06b48244'"
      ]
     },
     "execution_count": 28,
     "metadata": {},
     "output_type": "execute_result"
    }
   ],
   "source": [
    "url"
   ]
  },
  {
   "cell_type": "markdown",
   "metadata": {},
   "source": [
    "## Reassigning variables\n",
    "We can also reassign a variable "
   ]
  },
  {
   "cell_type": "code",
   "execution_count": 35,
   "metadata": {},
   "outputs": [
    {
     "name": "stdout",
     "output_type": "stream",
     "text": [
      "Daniel\n",
      "Berthold\n"
     ]
    }
   ],
   "source": [
    "name = 'Daniel'\n",
    "print(name)\n",
    "name = 'Berthold'\n",
    "print(name)"
   ]
  },
  {
   "cell_type": "markdown",
   "metadata": {},
   "source": [
    "# Indexing and lists\n",
    "\n",
    "Let's take a look at a few more things which will be helpful for our example use case. \n",
    "\n",
    "## Indexing \n",
    "This allows you to access specific items in an 'iterable' in Python. Lets not worry too much about what an iterable is for now. Essentially what we are doing is getting a part of something. To get the first element of a string we do the following: "
   ]
  },
  {
   "cell_type": "code",
   "execution_count": 70,
   "metadata": {},
   "outputs": [
    {
     "data": {
      "text/plain": [
       "'H'"
      ]
     },
     "execution_count": 70,
     "metadata": {},
     "output_type": "execute_result"
    }
   ],
   "source": [
    "name = 'Harry Potter'\n",
    "name[0]"
   ]
  },
  {
   "cell_type": "markdown",
   "metadata": {},
   "source": [
    "To get the next the next letter"
   ]
  },
  {
   "cell_type": "code",
   "execution_count": 71,
   "metadata": {},
   "outputs": [
    {
     "data": {
      "text/plain": [
       "'a'"
      ]
     },
     "execution_count": 71,
     "metadata": {},
     "output_type": "execute_result"
    }
   ],
   "source": [
    "name[1]"
   ]
  },
  {
   "cell_type": "markdown",
   "metadata": {},
   "source": [
    "# 🧙🏿‍♂️ Python starts counting from zero\n",
    "You'll see that to get the first character from the name variable we use ```[0]``` not ```[1]``` this is because Python starts counting from zero, instead of 1.\n",
    "\n",
    "Let's try with the url"
   ]
  },
  {
   "cell_type": "code",
   "execution_count": 72,
   "metadata": {},
   "outputs": [
    {
     "data": {
      "text/plain": [
       "'t'"
      ]
     },
     "execution_count": 72,
     "metadata": {},
     "output_type": "execute_result"
    }
   ],
   "source": [
    "# Indexing \n",
    "url[1]"
   ]
  },
  {
   "cell_type": "markdown",
   "metadata": {},
   "source": [
    "We can also index a range"
   ]
  },
  {
   "cell_type": "code",
   "execution_count": 77,
   "metadata": {},
   "outputs": [
    {
     "data": {
      "text/plain": [
       "'https://bl'"
      ]
     },
     "execution_count": 77,
     "metadata": {},
     "output_type": "execute_result"
    }
   ],
   "source": [
    "url[0:10]"
   ]
  },
  {
   "cell_type": "markdown",
   "metadata": {},
   "source": [
    "And reverse index "
   ]
  },
  {
   "cell_type": "code",
   "execution_count": 75,
   "metadata": {},
   "outputs": [
    {
     "data": {
      "text/plain": [
       "'4'"
      ]
     },
     "execution_count": 75,
     "metadata": {},
     "output_type": "execute_result"
    }
   ],
   "source": [
    "#index range\n",
    "url[-1]"
   ]
  },
  {
   "cell_type": "markdown",
   "metadata": {},
   "source": [
    "# Exercise 🎓 "
   ]
  },
  {
   "cell_type": "markdown",
   "metadata": {},
   "source": [
    "Index into the 'bl' part of the URL"
   ]
  },
  {
   "cell_type": "code",
   "execution_count": 79,
   "metadata": {},
   "outputs": [],
   "source": [
    "url = 'https://bl.oar.bl.uk/fail_uploads/download_file?fileset_id=67b25f41-a682-4c1f-bf42-550e06b48244'"
   ]
  },
  {
   "cell_type": "code",
   "execution_count": 84,
   "metadata": {},
   "outputs": [
    {
     "data": {
      "text/plain": [
       "'h'"
      ]
     },
     "execution_count": 84,
     "metadata": {},
     "output_type": "execute_result"
    }
   ],
   "source": [
    "url[] #Insert your index here"
   ]
  },
  {
   "cell_type": "markdown",
   "metadata": {},
   "source": [
    "You may have found something a little a bit weird in the indexing"
   ]
  },
  {
   "cell_type": "code",
   "execution_count": 93,
   "metadata": {},
   "outputs": [
    {
     "name": "stdout",
     "output_type": "stream",
     "text": [
      "H\n",
      "Ha\n"
     ]
    }
   ],
   "source": [
    "print(name[0:1]) # doesn't include a\n",
    "print(name[0:2]) # does include a"
   ]
  },
  {
   "cell_type": "markdown",
   "metadata": {},
   "source": [
    "We can also start from the back"
   ]
  },
  {
   "cell_type": "code",
   "execution_count": 95,
   "metadata": {},
   "outputs": [
    {
     "data": {
      "text/plain": [
       "'4'"
      ]
     },
     "execution_count": 95,
     "metadata": {},
     "output_type": "execute_result"
    }
   ],
   "source": [
    "# Reverse index \n",
    "url[-1] # only the last"
   ]
  },
  {
   "cell_type": "code",
   "execution_count": 107,
   "metadata": {},
   "outputs": [
    {
     "data": {
      "text/plain": [
       "'Harry Potte'"
      ]
     },
     "execution_count": 107,
     "metadata": {},
     "output_type": "execute_result"
    }
   ],
   "source": [
    "name[:-1] #up to but not including last"
   ]
  },
  {
   "cell_type": "markdown",
   "metadata": {},
   "source": [
    "# Lists \n",
    "A list is used for storing multiple things. So far we have stored things in a variable but this will get tricky once we want to work with more things. For this we can use a list. A list is surrounded by ```[ ] ``` and each element is separated by a ```,```"
   ]
  },
  {
   "cell_type": "code",
   "execution_count": 112,
   "metadata": {},
   "outputs": [],
   "source": [
    "names = ['Berthold', 'Denys', 'Erno']"
   ]
  },
  {
   "cell_type": "markdown",
   "metadata": {},
   "source": [
    "We can check what type names is"
   ]
  },
  {
   "cell_type": "code",
   "execution_count": 115,
   "metadata": {},
   "outputs": [
    {
     "data": {
      "text/plain": [
       "list"
      ]
     },
     "execution_count": 115,
     "metadata": {},
     "output_type": "execute_result"
    }
   ],
   "source": [
    "type(names)"
   ]
  },
  {
   "cell_type": "markdown",
   "metadata": {},
   "source": [
    "We can do similar things we did before with a list"
   ]
  },
  {
   "cell_type": "code",
   "execution_count": 116,
   "metadata": {},
   "outputs": [
    {
     "data": {
      "text/plain": [
       "3"
      ]
     },
     "execution_count": 116,
     "metadata": {},
     "output_type": "execute_result"
    }
   ],
   "source": [
    "len(names)"
   ]
  },
  {
   "cell_type": "markdown",
   "metadata": {},
   "source": [
    "In this case we get 3 since we're now counting the number of items in the list "
   ]
  },
  {
   "cell_type": "markdown",
   "metadata": {},
   "source": [
    "# Exercise 🎓 \n",
    "How do you think we can access the first name out of this list? "
   ]
  },
  {
   "cell_type": "code",
   "execution_count": 119,
   "metadata": {},
   "outputs": [],
   "source": [
    "# Answer here "
   ]
  },
  {
   "cell_type": "markdown",
   "metadata": {},
   "source": [
    "## Adding to a list \n",
    "We can add new things to a list. One way of doing this is to use the ```append``` method. This will append an item to the end of the list. "
   ]
  },
  {
   "cell_type": "code",
   "execution_count": 124,
   "metadata": {},
   "outputs": [],
   "source": [
    "names.append('Neave')"
   ]
  },
  {
   "cell_type": "code",
   "execution_count": 126,
   "metadata": {},
   "outputs": [
    {
     "data": {
      "text/plain": [
       "['Berthold', 'Denys', 'Erno', 'Neave']"
      ]
     },
     "execution_count": 126,
     "metadata": {},
     "output_type": "execute_result"
    }
   ],
   "source": [
    "names"
   ]
  },
  {
   "cell_type": "code",
   "execution_count": null,
   "metadata": {},
   "outputs": [],
   "source": []
  },
  {
   "cell_type": "markdown",
   "metadata": {},
   "source": [
    "## Empty lists \n",
    "We can also create an empty list which we add items to later. This is often something you'll see in Python as a way of updating lists during a process. \n",
    "There are a number of ways of creating an empty list. One way is to create a variable for your list and assign it to ```[]```"
   ]
  },
  {
   "cell_type": "code",
   "execution_count": 132,
   "metadata": {},
   "outputs": [
    {
     "name": "stdout",
     "output_type": "stream",
     "text": [
      "<class 'list'>\n"
     ]
    },
    {
     "data": {
      "text/plain": [
       "0"
      ]
     },
     "execution_count": 132,
     "metadata": {},
     "output_type": "execute_result"
    }
   ],
   "source": [
    "books = []\n",
    "print(type(books))\n",
    "len(books)"
   ]
  },
  {
   "cell_type": "markdown",
   "metadata": {},
   "source": [
    "We can see that we created a list by using the ```type()``` function to check the type of our books variable. We can also see that the length of books is zero. This is because currently the list is empty. "
   ]
  },
  {
   "cell_type": "code",
   "execution_count": 133,
   "metadata": {},
   "outputs": [
    {
     "data": {
      "text/plain": [
       "1"
      ]
     },
     "execution_count": 133,
     "metadata": {},
     "output_type": "execute_result"
    }
   ],
   "source": [
    "book_1 = 'book1'\n",
    "books.append(book_1)\n",
    "len(books)"
   ]
  },
  {
   "cell_type": "code",
   "execution_count": null,
   "metadata": {},
   "outputs": [],
   "source": []
  }
 ],
 "metadata": {
  "kernelspec": {
   "display_name": "Python 3",
   "language": "python",
   "name": "python3"
  },
  "language_info": {
   "codemirror_mode": {
    "name": "ipython",
    "version": 3
   },
   "file_extension": ".py",
   "mimetype": "text/x-python",
   "name": "python",
   "nbconvert_exporter": "python",
   "pygments_lexer": "ipython3",
   "version": "3.7.3"
  }
 },
 "nbformat": 4,
 "nbformat_minor": 4
}
